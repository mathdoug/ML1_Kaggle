{
 "cells": [
  {
   "cell_type": "code",
   "execution_count": 1,
   "metadata": {},
   "outputs": [],
   "source": [
    "import networkx as nx\n",
    "import pandas as pd\n",
    "from sklearn.ensemble import RandomForestClassifier\n",
    "import numpy as np"
   ]
  },
  {
   "cell_type": "markdown",
   "metadata": {},
   "source": [
    "We create the graph object with the networkx library and then the dataframes."
   ]
  },
  {
   "cell_type": "code",
   "execution_count": 2,
   "metadata": {},
   "outputs": [],
   "source": [
    "graph = nx.Graph()\n",
    "f = open(\"training.txt\", \"r\")\n",
    "for line in f:\n",
    "    line = line.split()\n",
    "    if line[2] == '1':\n",
    "        graph.add_edge(line[0], line[1])\n",
    "    else:\n",
    "        graph.add_nodes_from([line[0], line[1]])"
   ]
  },
  {
   "cell_type": "code",
   "execution_count": 3,
   "metadata": {},
   "outputs": [],
   "source": [
    "#df_train = pd.read_csv(\"training.txt\", sep=\" \", header=None)\n",
    "#df_train.columns = [\"node_1\", \"node_2\", \"label\"]\n",
    "\n",
    "#df_test = pd.read_csv(\"testing.txt\", sep=\" \", header=None)\n",
    "#df_test.columns = [\"node_1\", \"node_2\"]\n",
    "\n",
    "df_train = pd.read_csv('df_train.csv')\n",
    "df_test = pd.read_csv(\"df_test.csv\")\n"
   ]
  },
  {
   "cell_type": "code",
   "execution_count": 4,
   "metadata": {},
   "outputs": [
    {
     "name": "stdout",
     "output_type": "stream",
     "text": [
      "<class 'pandas.core.frame.DataFrame'>\n",
      "RangeIndex: 453797 entries, 0 to 453796\n",
      "Data columns (total 8 columns):\n",
      "Unnamed: 0                 453797 non-null int64\n",
      "node_1                     453797 non-null int64\n",
      "node_2                     453797 non-null int64\n",
      "label                      453797 non-null int64\n",
      "Jaccard                    453797 non-null float64\n",
      "Adamic-Adar                453797 non-null float64\n",
      "Preferential Attachment    453797 non-null int64\n",
      "Resource Allocation        453797 non-null float64\n",
      "dtypes: float64(3), int64(5)\n",
      "memory usage: 27.7 MB\n"
     ]
    }
   ],
   "source": [
    "df_train.info()"
   ]
  },
  {
   "cell_type": "markdown",
   "metadata": {},
   "source": [
    "We make the feature extraction here, for the MVP we use the Jaccard coefficient, the Adamic-Adar index and the preferential attachment (https://networkx.github.io/documentation/stable/reference/algorithms/link_prediction.html )."
   ]
  },
  {
   "cell_type": "code",
   "execution_count": 11,
   "metadata": {},
   "outputs": [],
   "source": [
    "jaccard = []\n",
    "f = open(\"training.txt\", \"r\")\n",
    "\n",
    "for line in f:\n",
    "    line = line.split()\n",
    "    for u,v,p in nx.jaccard_coefficient(graph, [(line[0], line[1])]):\n",
    "        jaccard.append(p)\n",
    "\n"
   ]
  },
  {
   "cell_type": "code",
   "execution_count": 12,
   "metadata": {},
   "outputs": [],
   "source": [
    "df_train[\"Jaccard\"] = jaccard"
   ]
  },
  {
   "cell_type": "code",
   "execution_count": 16,
   "metadata": {},
   "outputs": [],
   "source": [
    "aa = []\n",
    "f = open(\"training.txt\", \"r\")\n",
    "\n",
    "for line in f:\n",
    "    line = line.split()\n",
    "    for u, v, p in nx.adamic_adar_index(graph, [(line[0], line[1])]):\n",
    "        aa.append(p)\n",
    "df_train[\"Adamic-Adar\"] = aa"
   ]
  },
  {
   "cell_type": "code",
   "execution_count": 18,
   "metadata": {},
   "outputs": [],
   "source": [
    "pa = []\n",
    "f = open(\"training.txt\", \"r\")\n",
    "\n",
    "for line in f:\n",
    "    line = line.split()\n",
    "    for u, v, p in nx.preferential_attachment(graph, [(line[0], line[1])]):\n",
    "        pa.append(p)\n",
    "        \n",
    "df_train[\"Preferential Attachment\"] = pa"
   ]
  },
  {
   "cell_type": "code",
   "execution_count": 55,
   "metadata": {},
   "outputs": [],
   "source": [
    "ra = []\n",
    "f = open(\"training.txt\", \"r\")\n",
    "\n",
    "for line in f:\n",
    "    line = line.split()\n",
    "    for u, v, p in nx.resource_allocation_index(graph, [(line[0], line[1])]):\n",
    "        ra.append(p)\n",
    "\n",
    "df_train[\"Resource Allocation\"] = ra"
   ]
  },
  {
   "cell_type": "markdown",
   "metadata": {},
   "source": [
    "We train the RandomForestClassifier with $~80\\%$ of the data."
   ]
  },
  {
   "cell_type": "code",
   "execution_count": 75,
   "metadata": {},
   "outputs": [
    {
     "data": {
      "text/plain": [
       "RandomForestClassifier(bootstrap=True, class_weight=None, criterion='gini',\n",
       "            max_depth=20, max_features='auto', max_leaf_nodes=None,\n",
       "            min_impurity_decrease=0.0, min_impurity_split=None,\n",
       "            min_samples_leaf=1, min_samples_split=2,\n",
       "            min_weight_fraction_leaf=0.0, n_estimators=20, n_jobs=1,\n",
       "            oob_score=False, random_state=0, verbose=0, warm_start=False)"
      ]
     },
     "execution_count": 75,
     "metadata": {},
     "output_type": "execute_result"
    }
   ],
   "source": [
    "classifier = RandomForestClassifier(n_estimators=20, max_depth=20, \n",
    "                                    random_state=0)\n",
    "columns = [\"Jaccard\", \"Adamic-Adar\", \"Preferential Attachment\", \"Resource Allocation\"]\n",
    "\n",
    "X = df_train[columns][:-90700]\n",
    "y = df_train[\"label\"][:-90700]\n",
    "classifier.fit(X, y)"
   ]
  },
  {
   "cell_type": "code",
   "execution_count": 22,
   "metadata": {},
   "outputs": [],
   "source": [
    "from sklearn.metrics import recall_score\n",
    "from sklearn.metrics import precision_score\n",
    "from sklearn.metrics import accuracy_score\n",
    "\n",
    "def evaluate_model(predictions, actual):\n",
    "    accuracy = accuracy_score(actual, predictions)\n",
    "    precision = precision_score(actual, predictions)\n",
    "    recall = recall_score(actual, predictions)\n",
    "    \n",
    "    metrics = [\"accuracy\", \"precision\", \"recall\"]\n",
    "    values = [accuracy, precision, recall]    \n",
    "    return pd.DataFrame(data={'metric': metrics, 'value': values})\n",
    "\n",
    "def feature_importance(columns, classifier):        \n",
    "    features = list(zip(columns, classifier.feature_importances_))\n",
    "    sorted_features = sorted(features, key = lambda x: x[1]*-1)\n",
    "    \n",
    "    keys = [value[0] for value in sorted_features]\n",
    "    values = [value[1] for value in sorted_features]\n",
    "    return pd.DataFrame(data={'feature': keys, 'value': values})"
   ]
  },
  {
   "cell_type": "code",
   "execution_count": 76,
   "metadata": {},
   "outputs": [
    {
     "data": {
      "text/html": [
       "<div>\n",
       "<style scoped>\n",
       "    .dataframe tbody tr th:only-of-type {\n",
       "        vertical-align: middle;\n",
       "    }\n",
       "\n",
       "    .dataframe tbody tr th {\n",
       "        vertical-align: top;\n",
       "    }\n",
       "\n",
       "    .dataframe thead th {\n",
       "        text-align: right;\n",
       "    }\n",
       "</style>\n",
       "<table border=\"1\" class=\"dataframe\">\n",
       "  <thead>\n",
       "    <tr style=\"text-align: right;\">\n",
       "      <th></th>\n",
       "      <th>metric</th>\n",
       "      <th>value</th>\n",
       "    </tr>\n",
       "  </thead>\n",
       "  <tbody>\n",
       "    <tr>\n",
       "      <th>0</th>\n",
       "      <td>accuracy</td>\n",
       "      <td>0.528787</td>\n",
       "    </tr>\n",
       "    <tr>\n",
       "      <th>1</th>\n",
       "      <td>precision</td>\n",
       "      <td>0.625569</td>\n",
       "    </tr>\n",
       "    <tr>\n",
       "      <th>2</th>\n",
       "      <td>recall</td>\n",
       "      <td>0.618583</td>\n",
       "    </tr>\n",
       "  </tbody>\n",
       "</table>\n",
       "</div>"
      ],
      "text/plain": [
       "      metric     value\n",
       "0   accuracy  0.528787\n",
       "1  precision  0.625569\n",
       "2     recall  0.618583"
      ]
     },
     "execution_count": 76,
     "metadata": {},
     "output_type": "execute_result"
    }
   ],
   "source": [
    "predictions = classifier.predict(df_train[columns][-90700:])\n",
    "\n",
    "evaluate_model(predictions, y[-90700:])"
   ]
  },
  {
   "cell_type": "code",
   "execution_count": 58,
   "metadata": {},
   "outputs": [
    {
     "data": {
      "text/html": [
       "<div>\n",
       "<style scoped>\n",
       "    .dataframe tbody tr th:only-of-type {\n",
       "        vertical-align: middle;\n",
       "    }\n",
       "\n",
       "    .dataframe tbody tr th {\n",
       "        vertical-align: top;\n",
       "    }\n",
       "\n",
       "    .dataframe thead th {\n",
       "        text-align: right;\n",
       "    }\n",
       "</style>\n",
       "<table border=\"1\" class=\"dataframe\">\n",
       "  <thead>\n",
       "    <tr style=\"text-align: right;\">\n",
       "      <th></th>\n",
       "      <th>feature</th>\n",
       "      <th>value</th>\n",
       "    </tr>\n",
       "  </thead>\n",
       "  <tbody>\n",
       "    <tr>\n",
       "      <th>0</th>\n",
       "      <td>Preferential Attachment</td>\n",
       "      <td>0.610625</td>\n",
       "    </tr>\n",
       "    <tr>\n",
       "      <th>1</th>\n",
       "      <td>Resource Allocation</td>\n",
       "      <td>0.252877</td>\n",
       "    </tr>\n",
       "    <tr>\n",
       "      <th>2</th>\n",
       "      <td>Adamic-Adar</td>\n",
       "      <td>0.118037</td>\n",
       "    </tr>\n",
       "    <tr>\n",
       "      <th>3</th>\n",
       "      <td>Jaccard</td>\n",
       "      <td>0.018461</td>\n",
       "    </tr>\n",
       "  </tbody>\n",
       "</table>\n",
       "</div>"
      ],
      "text/plain": [
       "                   feature     value\n",
       "0  Preferential Attachment  0.610625\n",
       "1      Resource Allocation  0.252877\n",
       "2              Adamic-Adar  0.118037\n",
       "3                  Jaccard  0.018461"
      ]
     },
     "execution_count": 58,
     "metadata": {},
     "output_type": "execute_result"
    }
   ],
   "source": [
    "feature_importance(columns, classifier)"
   ]
  },
  {
   "cell_type": "markdown",
   "metadata": {},
   "source": [
    "Calculating feature extraction for testing data"
   ]
  },
  {
   "cell_type": "code",
   "execution_count": null,
   "metadata": {},
   "outputs": [],
   "source": [
    "aa = []\n",
    "f = open(\"testing.txt\", \"r\")\n",
    "\n",
    "for line in f:\n",
    "    line = line.split()\n",
    "    for u, v, p in nx.adamic_adar_index(graph, [(line[0], line[1])]):\n",
    "        aa.append(p)\n",
    "df_test[\"Adamic-Adar\"] = aa"
   ]
  },
  {
   "cell_type": "code",
   "execution_count": 30,
   "metadata": {},
   "outputs": [],
   "source": [
    "pa = []\n",
    "f = open(\"testing.txt\", \"r\")\n",
    "\n",
    "for line in f:\n",
    "    line = line.split()\n",
    "    for u, v, p in nx.preferential_attachment(graph, [(line[0], line[1])]):\n",
    "        pa.append(p)\n",
    "        \n",
    "df_test[\"Preferential Attachment\"] = pa"
   ]
  },
  {
   "cell_type": "code",
   "execution_count": 60,
   "metadata": {},
   "outputs": [],
   "source": [
    "ra = []\n",
    "f = open(\"testing.txt\", \"r\")\n",
    "\n",
    "for line in f:\n",
    "    line = line.split()\n",
    "    for u, v, p in nx.resource_allocation_index(graph, [(line[0], line[1])]):\n",
    "        ra.append(p)\n",
    "        \n",
    "df_test[\"Resource Allocation\"] = ra"
   ]
  },
  {
   "cell_type": "code",
   "execution_count": 33,
   "metadata": {},
   "outputs": [],
   "source": [
    "predictions = classifier.predict(df_test[columns])"
   ]
  },
  {
   "cell_type": "code",
   "execution_count": 64,
   "metadata": {},
   "outputs": [
    {
     "data": {
      "text/html": [
       "<div>\n",
       "<style scoped>\n",
       "    .dataframe tbody tr th:only-of-type {\n",
       "        vertical-align: middle;\n",
       "    }\n",
       "\n",
       "    .dataframe tbody tr th {\n",
       "        vertical-align: top;\n",
       "    }\n",
       "\n",
       "    .dataframe thead th {\n",
       "        text-align: right;\n",
       "    }\n",
       "</style>\n",
       "<table border=\"1\" class=\"dataframe\">\n",
       "  <thead>\n",
       "    <tr style=\"text-align: right;\">\n",
       "      <th></th>\n",
       "      <th>Jaccard</th>\n",
       "      <th>Adamic-Adar</th>\n",
       "      <th>Preferential Attachment</th>\n",
       "      <th>Resource Allocation</th>\n",
       "    </tr>\n",
       "  </thead>\n",
       "  <tbody>\n",
       "    <tr>\n",
       "      <th>0</th>\n",
       "      <td>0.005618</td>\n",
       "      <td>0.192569</td>\n",
       "      <td>7018</td>\n",
       "      <td>0.005556</td>\n",
       "    </tr>\n",
       "    <tr>\n",
       "      <th>1</th>\n",
       "      <td>0.000000</td>\n",
       "      <td>0.000000</td>\n",
       "      <td>36</td>\n",
       "      <td>0.000000</td>\n",
       "    </tr>\n",
       "    <tr>\n",
       "      <th>2</th>\n",
       "      <td>0.005979</td>\n",
       "      <td>0.605220</td>\n",
       "      <td>24130</td>\n",
       "      <td>0.006253</td>\n",
       "    </tr>\n",
       "    <tr>\n",
       "      <th>3</th>\n",
       "      <td>0.000000</td>\n",
       "      <td>0.000000</td>\n",
       "      <td>1368</td>\n",
       "      <td>0.000000</td>\n",
       "    </tr>\n",
       "    <tr>\n",
       "      <th>4</th>\n",
       "      <td>0.000000</td>\n",
       "      <td>0.000000</td>\n",
       "      <td>624</td>\n",
       "      <td>0.000000</td>\n",
       "    </tr>\n",
       "  </tbody>\n",
       "</table>\n",
       "</div>"
      ],
      "text/plain": [
       "    Jaccard  Adamic-Adar  Preferential Attachment  Resource Allocation\n",
       "0  0.005618     0.192569                     7018             0.005556\n",
       "1  0.000000     0.000000                       36             0.000000\n",
       "2  0.005979     0.605220                    24130             0.006253\n",
       "3  0.000000     0.000000                     1368             0.000000\n",
       "4  0.000000     0.000000                      624             0.000000"
      ]
     },
     "execution_count": 64,
     "metadata": {},
     "output_type": "execute_result"
    }
   ],
   "source": [
    "df_train[columns][:-90700].head()"
   ]
  },
  {
   "cell_type": "code",
   "execution_count": 63,
   "metadata": {},
   "outputs": [
    {
     "data": {
      "text/html": [
       "<div>\n",
       "<style scoped>\n",
       "    .dataframe tbody tr th:only-of-type {\n",
       "        vertical-align: middle;\n",
       "    }\n",
       "\n",
       "    .dataframe tbody tr th {\n",
       "        vertical-align: top;\n",
       "    }\n",
       "\n",
       "    .dataframe thead th {\n",
       "        text-align: right;\n",
       "    }\n",
       "</style>\n",
       "<table border=\"1\" class=\"dataframe\">\n",
       "  <thead>\n",
       "    <tr style=\"text-align: right;\">\n",
       "      <th></th>\n",
       "      <th>node_1</th>\n",
       "      <th>node_2</th>\n",
       "      <th>label</th>\n",
       "      <th>Jaccard</th>\n",
       "      <th>Adamic-Adar</th>\n",
       "      <th>Preferential Attachment</th>\n",
       "      <th>Resource Allocation</th>\n",
       "    </tr>\n",
       "  </thead>\n",
       "  <tbody>\n",
       "    <tr>\n",
       "      <th>363097</th>\n",
       "      <td>1722</td>\n",
       "      <td>2038</td>\n",
       "      <td>0</td>\n",
       "      <td>0.000000</td>\n",
       "      <td>0.000000</td>\n",
       "      <td>341</td>\n",
       "      <td>0.000000</td>\n",
       "    </tr>\n",
       "    <tr>\n",
       "      <th>363098</th>\n",
       "      <td>23473</td>\n",
       "      <td>5027</td>\n",
       "      <td>1</td>\n",
       "      <td>0.000000</td>\n",
       "      <td>0.000000</td>\n",
       "      <td>14280</td>\n",
       "      <td>0.000000</td>\n",
       "    </tr>\n",
       "    <tr>\n",
       "      <th>363099</th>\n",
       "      <td>7651</td>\n",
       "      <td>4147</td>\n",
       "      <td>0</td>\n",
       "      <td>0.011905</td>\n",
       "      <td>0.108296</td>\n",
       "      <td>400</td>\n",
       "      <td>0.000098</td>\n",
       "    </tr>\n",
       "    <tr>\n",
       "      <th>363100</th>\n",
       "      <td>2511</td>\n",
       "      <td>16436</td>\n",
       "      <td>0</td>\n",
       "      <td>0.047619</td>\n",
       "      <td>0.127792</td>\n",
       "      <td>112</td>\n",
       "      <td>0.000400</td>\n",
       "    </tr>\n",
       "    <tr>\n",
       "      <th>363101</th>\n",
       "      <td>26610</td>\n",
       "      <td>20115</td>\n",
       "      <td>0</td>\n",
       "      <td>0.000000</td>\n",
       "      <td>0.000000</td>\n",
       "      <td>42</td>\n",
       "      <td>0.000000</td>\n",
       "    </tr>\n",
       "  </tbody>\n",
       "</table>\n",
       "</div>"
      ],
      "text/plain": [
       "        node_1  node_2  label   Jaccard  Adamic-Adar  Preferential Attachment  \\\n",
       "363097    1722    2038      0  0.000000     0.000000                      341   \n",
       "363098   23473    5027      1  0.000000     0.000000                    14280   \n",
       "363099    7651    4147      0  0.011905     0.108296                      400   \n",
       "363100    2511   16436      0  0.047619     0.127792                      112   \n",
       "363101   26610   20115      0  0.000000     0.000000                       42   \n",
       "\n",
       "        Resource Allocation  \n",
       "363097             0.000000  \n",
       "363098             0.000000  \n",
       "363099             0.000098  \n",
       "363100             0.000400  \n",
       "363101             0.000000  "
      ]
     },
     "execution_count": 63,
     "metadata": {},
     "output_type": "execute_result"
    }
   ],
   "source": [
    "df_train[-90700:].head()"
   ]
  },
  {
   "cell_type": "code",
   "execution_count": 79,
   "metadata": {},
   "outputs": [],
   "source": [
    "df_train.to_csv('df_train.csv')"
   ]
  },
  {
   "cell_type": "code",
   "execution_count": 80,
   "metadata": {},
   "outputs": [],
   "source": [
    "df_test.to_csv('df_test.csv')"
   ]
  },
  {
   "cell_type": "code",
   "execution_count": 78,
   "metadata": {
    "scrolled": true
   },
   "outputs": [
    {
     "data": {
      "text/plain": [
       "0.6213484177113944"
      ]
     },
     "execution_count": 78,
     "metadata": {},
     "output_type": "execute_result"
    }
   ],
   "source": [
    "2 / ((1/0.617387)+(1/0.625361))"
   ]
  },
  {
   "cell_type": "code",
   "execution_count": null,
   "metadata": {},
   "outputs": [],
   "source": [
    "from tsfresh import extract_features\n",
    "columns = [\"Jaccard\", \"Adamic-Adar\", \"Preferential Attachment\", \"Resource Allocation\",\"id\"]\n",
    "extracted_features = extract_features(df_train[columns], column_id = \"id\")"
   ]
  },
  {
   "cell_type": "code",
   "execution_count": 5,
   "metadata": {},
   "outputs": [],
   "source": [
    "from tsfresh import select_features\n",
    "from tsfresh.utilities.dataframe_functions import impute"
   ]
  },
  {
   "cell_type": "code",
   "execution_count": 23,
   "metadata": {},
   "outputs": [],
   "source": [
    "df_train[\"id\"] = np.arange(453797)"
   ]
  },
  {
   "cell_type": "code",
   "execution_count": 26,
   "metadata": {},
   "outputs": [
    {
     "data": {
      "text/html": [
       "<div>\n",
       "<style scoped>\n",
       "    .dataframe tbody tr th:only-of-type {\n",
       "        vertical-align: middle;\n",
       "    }\n",
       "\n",
       "    .dataframe tbody tr th {\n",
       "        vertical-align: top;\n",
       "    }\n",
       "\n",
       "    .dataframe thead th {\n",
       "        text-align: right;\n",
       "    }\n",
       "</style>\n",
       "<table border=\"1\" class=\"dataframe\">\n",
       "  <thead>\n",
       "    <tr style=\"text-align: right;\">\n",
       "      <th></th>\n",
       "      <th>Unnamed: 0</th>\n",
       "      <th>node_1</th>\n",
       "      <th>node_2</th>\n",
       "      <th>label</th>\n",
       "      <th>Jaccard</th>\n",
       "      <th>Adamic-Adar</th>\n",
       "      <th>Preferential Attachment</th>\n",
       "      <th>Resource Allocation</th>\n",
       "      <th>id</th>\n",
       "    </tr>\n",
       "  </thead>\n",
       "  <tbody>\n",
       "    <tr>\n",
       "      <th>0</th>\n",
       "      <td>0</td>\n",
       "      <td>10481</td>\n",
       "      <td>5428</td>\n",
       "      <td>1</td>\n",
       "      <td>0.005618</td>\n",
       "      <td>0.192569</td>\n",
       "      <td>7018</td>\n",
       "      <td>0.005556</td>\n",
       "      <td>0</td>\n",
       "    </tr>\n",
       "    <tr>\n",
       "      <th>1</th>\n",
       "      <td>1</td>\n",
       "      <td>7353</td>\n",
       "      <td>30328</td>\n",
       "      <td>0</td>\n",
       "      <td>0.000000</td>\n",
       "      <td>0.000000</td>\n",
       "      <td>36</td>\n",
       "      <td>0.000000</td>\n",
       "      <td>1</td>\n",
       "    </tr>\n",
       "    <tr>\n",
       "      <th>2</th>\n",
       "      <td>2</td>\n",
       "      <td>8627</td>\n",
       "      <td>3547</td>\n",
       "      <td>1</td>\n",
       "      <td>0.005979</td>\n",
       "      <td>0.605220</td>\n",
       "      <td>24130</td>\n",
       "      <td>0.006253</td>\n",
       "      <td>2</td>\n",
       "    </tr>\n",
       "    <tr>\n",
       "      <th>3</th>\n",
       "      <td>3</td>\n",
       "      <td>10232</td>\n",
       "      <td>21925</td>\n",
       "      <td>1</td>\n",
       "      <td>0.000000</td>\n",
       "      <td>0.000000</td>\n",
       "      <td>1368</td>\n",
       "      <td>0.000000</td>\n",
       "      <td>3</td>\n",
       "    </tr>\n",
       "    <tr>\n",
       "      <th>4</th>\n",
       "      <td>4</td>\n",
       "      <td>7110</td>\n",
       "      <td>3288</td>\n",
       "      <td>1</td>\n",
       "      <td>0.000000</td>\n",
       "      <td>0.000000</td>\n",
       "      <td>624</td>\n",
       "      <td>0.000000</td>\n",
       "      <td>4</td>\n",
       "    </tr>\n",
       "    <tr>\n",
       "      <th>...</th>\n",
       "      <td>...</td>\n",
       "      <td>...</td>\n",
       "      <td>...</td>\n",
       "      <td>...</td>\n",
       "      <td>...</td>\n",
       "      <td>...</td>\n",
       "      <td>...</td>\n",
       "      <td>...</td>\n",
       "      <td>...</td>\n",
       "    </tr>\n",
       "    <tr>\n",
       "      <th>453792</th>\n",
       "      <td>453792</td>\n",
       "      <td>11186</td>\n",
       "      <td>4520</td>\n",
       "      <td>0</td>\n",
       "      <td>0.007905</td>\n",
       "      <td>0.428844</td>\n",
       "      <td>2684</td>\n",
       "      <td>0.041824</td>\n",
       "      <td>453792</td>\n",
       "    </tr>\n",
       "    <tr>\n",
       "      <th>453793</th>\n",
       "      <td>453793</td>\n",
       "      <td>12892</td>\n",
       "      <td>31446</td>\n",
       "      <td>0</td>\n",
       "      <td>0.000000</td>\n",
       "      <td>0.000000</td>\n",
       "      <td>80</td>\n",
       "      <td>0.000000</td>\n",
       "      <td>453793</td>\n",
       "    </tr>\n",
       "    <tr>\n",
       "      <th>453794</th>\n",
       "      <td>453794</td>\n",
       "      <td>16857</td>\n",
       "      <td>23822</td>\n",
       "      <td>0</td>\n",
       "      <td>0.058824</td>\n",
       "      <td>0.156530</td>\n",
       "      <td>81</td>\n",
       "      <td>0.001681</td>\n",
       "      <td>453794</td>\n",
       "    </tr>\n",
       "    <tr>\n",
       "      <th>453795</th>\n",
       "      <td>453795</td>\n",
       "      <td>5520</td>\n",
       "      <td>6394</td>\n",
       "      <td>1</td>\n",
       "      <td>0.004854</td>\n",
       "      <td>0.203556</td>\n",
       "      <td>4706</td>\n",
       "      <td>0.007353</td>\n",
       "      <td>453795</td>\n",
       "    </tr>\n",
       "    <tr>\n",
       "      <th>453796</th>\n",
       "      <td>453796</td>\n",
       "      <td>20318</td>\n",
       "      <td>28571</td>\n",
       "      <td>0</td>\n",
       "      <td>0.000000</td>\n",
       "      <td>0.000000</td>\n",
       "      <td>16</td>\n",
       "      <td>0.000000</td>\n",
       "      <td>453796</td>\n",
       "    </tr>\n",
       "  </tbody>\n",
       "</table>\n",
       "<p>453797 rows × 9 columns</p>\n",
       "</div>"
      ],
      "text/plain": [
       "        Unnamed: 0  node_1  node_2  label   Jaccard  Adamic-Adar  \\\n",
       "0                0   10481    5428      1  0.005618     0.192569   \n",
       "1                1    7353   30328      0  0.000000     0.000000   \n",
       "2                2    8627    3547      1  0.005979     0.605220   \n",
       "3                3   10232   21925      1  0.000000     0.000000   \n",
       "4                4    7110    3288      1  0.000000     0.000000   \n",
       "...            ...     ...     ...    ...       ...          ...   \n",
       "453792      453792   11186    4520      0  0.007905     0.428844   \n",
       "453793      453793   12892   31446      0  0.000000     0.000000   \n",
       "453794      453794   16857   23822      0  0.058824     0.156530   \n",
       "453795      453795    5520    6394      1  0.004854     0.203556   \n",
       "453796      453796   20318   28571      0  0.000000     0.000000   \n",
       "\n",
       "        Preferential Attachment  Resource Allocation      id  \n",
       "0                          7018             0.005556       0  \n",
       "1                            36             0.000000       1  \n",
       "2                         24130             0.006253       2  \n",
       "3                          1368             0.000000       3  \n",
       "4                           624             0.000000       4  \n",
       "...                         ...                  ...     ...  \n",
       "453792                     2684             0.041824  453792  \n",
       "453793                       80             0.000000  453793  \n",
       "453794                       81             0.001681  453794  \n",
       "453795                     4706             0.007353  453795  \n",
       "453796                       16             0.000000  453796  \n",
       "\n",
       "[453797 rows x 9 columns]"
      ]
     },
     "execution_count": 26,
     "metadata": {},
     "output_type": "execute_result"
    }
   ],
   "source": [
    "df_train"
   ]
  },
  {
   "cell_type": "code",
   "execution_count": null,
   "metadata": {},
   "outputs": [],
   "source": []
  },
  {
   "cell_type": "code",
   "execution_count": null,
   "metadata": {},
   "outputs": [],
   "source": []
  },
  {
   "cell_type": "code",
   "execution_count": null,
   "metadata": {},
   "outputs": [],
   "source": []
  },
  {
   "cell_type": "code",
   "execution_count": null,
   "metadata": {},
   "outputs": [],
   "source": []
  },
  {
   "cell_type": "code",
   "execution_count": null,
   "metadata": {},
   "outputs": [],
   "source": []
  },
  {
   "cell_type": "code",
   "execution_count": null,
   "metadata": {},
   "outputs": [],
   "source": []
  }
 ],
 "metadata": {
  "kernelspec": {
   "display_name": "Python 3",
   "language": "python",
   "name": "python3"
  },
  "language_info": {
   "codemirror_mode": {
    "name": "ipython",
    "version": 3
   },
   "file_extension": ".py",
   "mimetype": "text/x-python",
   "name": "python",
   "nbconvert_exporter": "python",
   "pygments_lexer": "ipython3",
   "version": "3.6.9"
  }
 },
 "nbformat": 4,
 "nbformat_minor": 2
}
