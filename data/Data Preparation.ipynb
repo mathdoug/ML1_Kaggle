{
 "cells": [
  {
   "cell_type": "code",
   "execution_count": 2,
   "metadata": {},
   "outputs": [],
   "source": [
    "import networkx as nx\n",
    "import pandas as pd\n",
    "import numpy as np\n"
   ]
  },
  {
   "cell_type": "markdown",
   "metadata": {},
   "source": [
    "We create a graph object from the data."
   ]
  },
  {
   "cell_type": "code",
   "execution_count": 5,
   "metadata": {},
   "outputs": [],
   "source": [
    "G = nx.Graph()\n",
    "digraph = nx.DiGraph()\n",
    "\n",
    "with open(\"training.txt\", \"r\") as f:\n",
    "    for line in f:\n",
    "        line = line.split()\n",
    "        digraph.add_node(line[0])\n",
    "        digraph.add_node(line[1])\n",
    "        if line[2] == '1':\n",
    "            G.add_edge(line[0], line[1])\n",
    "            digraph.add_edge(line[0], line[1])\n",
    "        else:\n",
    "            G.add_nodes_from([line[0], line[1]])\n"
   ]
  },
  {
   "cell_type": "code",
   "execution_count": 8,
   "metadata": {},
   "outputs": [
    {
     "name": "stdout",
     "output_type": "stream",
     "text": [
      "Name: \n",
      "Type: Graph\n",
      "Number of nodes: 33226\n",
      "Number of edges: 283623\n",
      "Average degree:  17.0724\n",
      "Name: \n",
      "Type: DiGraph\n",
      "Number of nodes: 33226\n",
      "Number of edges: 283623\n",
      "Average in degree:   8.5362\n",
      "Average out degree:   8.5362\n"
     ]
    }
   ],
   "source": [
    "print(nx.info(G))\n",
    "print(nx.info(digraph))"
   ]
  },
  {
   "cell_type": "code",
   "execution_count": null,
   "metadata": {},
   "outputs": [],
   "source": [
    "df_train = pd.read_csv(\"training.txt\", sep=\" \", header=None)\n",
    "df_train.columns = [\"node_1\", \"node_2\", \"label\"]\n",
    "\n",
    "df_test = pd.read_csv(\"testing.txt\", sep=\" \", header=None)\n",
    "df_test.columns = [\"node_1\", \"node_2\"]"
   ]
  },
  {
   "cell_type": "markdown",
   "metadata": {},
   "source": [
    "We add several features fromm the graph topology to better train the model."
   ]
  },
  {
   "cell_type": "code",
   "execution_count": 10,
   "metadata": {},
   "outputs": [
    {
     "data": {
      "text/html": [
       "<div>\n",
       "<style scoped>\n",
       "    .dataframe tbody tr th:only-of-type {\n",
       "        vertical-align: middle;\n",
       "    }\n",
       "\n",
       "    .dataframe tbody tr th {\n",
       "        vertical-align: top;\n",
       "    }\n",
       "\n",
       "    .dataframe thead th {\n",
       "        text-align: right;\n",
       "    }\n",
       "</style>\n",
       "<table border=\"1\" class=\"dataframe\">\n",
       "  <thead>\n",
       "    <tr style=\"text-align: right;\">\n",
       "      <th></th>\n",
       "      <th>Unnamed: 0</th>\n",
       "      <th>node_1</th>\n",
       "      <th>node_2</th>\n",
       "      <th>label</th>\n",
       "      <th>Jaccard</th>\n",
       "      <th>Adamic-Adar</th>\n",
       "      <th>Preferential Attachment</th>\n",
       "      <th>Resource Allocation</th>\n",
       "      <th>id</th>\n",
       "    </tr>\n",
       "  </thead>\n",
       "  <tbody>\n",
       "    <tr>\n",
       "      <th>0</th>\n",
       "      <td>0</td>\n",
       "      <td>10481</td>\n",
       "      <td>5428</td>\n",
       "      <td>1</td>\n",
       "      <td>0.005618</td>\n",
       "      <td>0.192569</td>\n",
       "      <td>7018</td>\n",
       "      <td>0.005556</td>\n",
       "      <td>0</td>\n",
       "    </tr>\n",
       "    <tr>\n",
       "      <th>1</th>\n",
       "      <td>1</td>\n",
       "      <td>7353</td>\n",
       "      <td>30328</td>\n",
       "      <td>0</td>\n",
       "      <td>0.000000</td>\n",
       "      <td>0.000000</td>\n",
       "      <td>36</td>\n",
       "      <td>0.000000</td>\n",
       "      <td>1</td>\n",
       "    </tr>\n",
       "    <tr>\n",
       "      <th>2</th>\n",
       "      <td>2</td>\n",
       "      <td>8627</td>\n",
       "      <td>3547</td>\n",
       "      <td>1</td>\n",
       "      <td>0.005979</td>\n",
       "      <td>0.605220</td>\n",
       "      <td>24130</td>\n",
       "      <td>0.006253</td>\n",
       "      <td>2</td>\n",
       "    </tr>\n",
       "    <tr>\n",
       "      <th>3</th>\n",
       "      <td>3</td>\n",
       "      <td>10232</td>\n",
       "      <td>21925</td>\n",
       "      <td>1</td>\n",
       "      <td>0.000000</td>\n",
       "      <td>0.000000</td>\n",
       "      <td>1368</td>\n",
       "      <td>0.000000</td>\n",
       "      <td>3</td>\n",
       "    </tr>\n",
       "    <tr>\n",
       "      <th>4</th>\n",
       "      <td>4</td>\n",
       "      <td>7110</td>\n",
       "      <td>3288</td>\n",
       "      <td>1</td>\n",
       "      <td>0.000000</td>\n",
       "      <td>0.000000</td>\n",
       "      <td>624</td>\n",
       "      <td>0.000000</td>\n",
       "      <td>4</td>\n",
       "    </tr>\n",
       "  </tbody>\n",
       "</table>\n",
       "</div>"
      ],
      "text/plain": [
       "   Unnamed: 0  node_1  node_2  label   Jaccard  Adamic-Adar  \\\n",
       "0           0   10481    5428      1  0.005618     0.192569   \n",
       "1           1    7353   30328      0  0.000000     0.000000   \n",
       "2           2    8627    3547      1  0.005979     0.605220   \n",
       "3           3   10232   21925      1  0.000000     0.000000   \n",
       "4           4    7110    3288      1  0.000000     0.000000   \n",
       "\n",
       "   Preferential Attachment  Resource Allocation  id  \n",
       "0                     7018             0.005556   0  \n",
       "1                       36             0.000000   1  \n",
       "2                    24130             0.006253   2  \n",
       "3                     1368             0.000000   3  \n",
       "4                      624             0.000000   4  "
      ]
     },
     "execution_count": 10,
     "metadata": {},
     "output_type": "execute_result"
    }
   ],
   "source": [
    "jaccard = []\n",
    "f = open(\"training.txt\", \"r\")\n",
    "\n",
    "for line in f:\n",
    "    line = line.split()\n",
    "    for u,v,p in nx.jaccard_coefficient(graph, [(line[0], line[1])]):\n",
    "        jaccard.append(p)\n",
    "df_train[\"Jaccard\"] = jaccard\n",
    "\n",
    "aa = []\n",
    "\n",
    "for line in f:\n",
    "    line = line.split()\n",
    "    for u, v, p in nx.adamic_adar_index(graph, [(line[0], line[1])]):\n",
    "        aa.append(p)\n",
    "df_train[\"Adamic-Adar\"] = aa\n",
    "\n",
    "pa = []\n",
    "\n",
    "for line in f:\n",
    "    line = line.split()\n",
    "    for u, v, p in nx.preferential_attachment(graph, [(line[0], line[1])]):\n",
    "        pa.append(p)\n",
    "        \n",
    "df_train[\"Preferential Attachment\"] = pa\n",
    "\n",
    "ra = []\n",
    "\n",
    "for line in f:\n",
    "    line = line.split()\n",
    "    for u, v, p in nx.resource_allocation_index(graph, [(line[0], line[1])]):\n",
    "        ra.append(p)\n",
    "\n",
    "df_train[\"Resource Allocation\"] = ra"
   ]
  },
  {
   "cell_type": "markdown",
   "metadata": {},
   "source": [
    "Idem for the testing data (testing.txt)"
   ]
  },
  {
   "cell_type": "code",
   "execution_count": null,
   "metadata": {},
   "outputs": [],
   "source": [
    "aa = []\n",
    "f = open(\"testing.txt\", \"r\")\n",
    "\n",
    "for line in f:\n",
    "    line = line.split()\n",
    "    for u, v, p in nx.adamic_adar_index(graph, [(line[0], line[1])]):\n",
    "        aa.append(p)\n",
    "df_test[\"Adamic-Adar\"] = aa\n",
    "\n",
    "pa = []\n",
    "\n",
    "for line in f:\n",
    "    line = line.split()\n",
    "    for u, v, p in nx.preferential_attachment(graph, [(line[0], line[1])]):\n",
    "        pa.append(p)\n",
    "        \n",
    "df_test[\"Preferential Attachment\"] = pa\n",
    "\n",
    "ra = []\n",
    "\n",
    "for line in f:\n",
    "    line = line.split()\n",
    "    for u, v, p in nx.resource_allocation_index(graph, [(line[0], line[1])]):\n",
    "        ra.append(p)\n",
    "        \n",
    "df_test[\"Resource Allocation\"] = ra"
   ]
  },
  {
   "cell_type": "code",
   "execution_count": null,
   "metadata": {},
   "outputs": [],
   "source": []
  }
 ],
 "metadata": {
  "kernelspec": {
   "display_name": "Python 3",
   "language": "python",
   "name": "python3"
  },
  "language_info": {
   "codemirror_mode": {
    "name": "ipython",
    "version": 3
   },
   "file_extension": ".py",
   "mimetype": "text/x-python",
   "name": "python",
   "nbconvert_exporter": "python",
   "pygments_lexer": "ipython3",
   "version": "3.6.9"
  }
 },
 "nbformat": 4,
 "nbformat_minor": 2
}
